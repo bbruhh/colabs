{
  "nbformat": 4,
  "nbformat_minor": 0,
  "metadata": {
    "colab": {
      "name": "Rpy2",
      "version": "0.3.2",
      "provenance": [],
      "collapsed_sections": [],
      "include_colab_link": true
    },
    "kernelspec": {
      "name": "python3",
      "display_name": "Python 3"
    }
  },
  "cells": [
    {
      "cell_type": "markdown",
      "metadata": {
        "id": "view-in-github",
        "colab_type": "text"
      },
      "source": [
        "[View in Colaboratory](https://colab.research.google.com/github/christianmerkwirth/colabs/blob/master/Rpy2.ipynb)"
      ]
    },
    {
      "metadata": {
        "id": "5F-EiBpDFnoM",
        "colab_type": "text"
      },
      "cell_type": "markdown",
      "source": [
        "This Colab notebook demonstrates how to install and use Rpy2 Python<->R connector. After installing R and Rpy2, it continues with the **POLYGLOT DATA ANALYSIS VISUALLY DEMONSTRATED WITH PYTHON AND R** demo by **Laurent Gautier** during Jupyter Days Boston - 2016.\n",
        "\n"
      ]
    },
    {
      "metadata": {
        "id": "JrYxnlKWF3yh",
        "colab_type": "code",
        "colab": {}
      },
      "cell_type": "code",
      "source": [
        "!apt-get install r-base r-base-dev\n",
        "!pip3 install rpy2 tzlocal"
      ],
      "execution_count": 0,
      "outputs": []
    },
    {
      "metadata": {
        "id": "7tQEQNc5I6iv",
        "colab_type": "code",
        "colab": {}
      },
      "cell_type": "code",
      "source": [
        "!R -e 'install.packages(c(\"tidyverse\",  \"data.table\"), repos=\"http://cran.cnr.Berkeley.edu\")' "
      ],
      "execution_count": 0,
      "outputs": []
    },
    {
      "metadata": {
        "id": "pSI64uobeonh",
        "colab_type": "text"
      },
      "cell_type": "markdown",
      "source": [
        ""
      ]
    },
    {
      "metadata": {
        "id": "BQ-Ti5yfIfFu",
        "colab_type": "code",
        "colab": {}
      },
      "cell_type": "code",
      "source": [
        "!git clone https://github.com/lgautier/jpd-pdapr-slides.git"
      ],
      "execution_count": 0,
      "outputs": []
    },
    {
      "metadata": {
        "id": "AFfKYwIyJZqu",
        "colab_type": "code",
        "colab": {}
      },
      "cell_type": "code",
      "source": [
        "!ls -la"
      ],
      "execution_count": 0,
      "outputs": []
    },
    {
      "metadata": {
        "id": "rRL-M76rFgbV",
        "colab_type": "text"
      },
      "cell_type": "markdown",
      "source": [
        "# POLYGLOT DATA ANALYSIS VISUALLY DEMONSTRATED WITH PYTHON AND R\n",
        "## Jupyter Days Boston - 2016\n",
        "### (Laurent Gautier)\n",
        "\n",
        "---\n",
        "\n",
        "## R \"magic\"\n",
        "\n",
        "- extension to the jupyter notebook\n",
        "- defines \"magic\": `%%R` and `%R`"
      ]
    },
    {
      "metadata": {
        "id": "nY1HT-LqFgbW",
        "colab_type": "code",
        "colab": {}
      },
      "cell_type": "code",
      "source": [
        "%load_ext rpy2.ipython"
      ],
      "execution_count": 0,
      "outputs": []
    },
    {
      "metadata": {
        "id": "0poJE4g2FgbZ",
        "colab_type": "text"
      },
      "cell_type": "markdown",
      "source": [
        "---\n",
        "\n",
        "- R code can be mixed with Python code\n",
        "- Cells with R code are prefixed with `%%R`\n",
        "- The R output is returned"
      ]
    },
    {
      "metadata": {
        "id": "zrMHOFw-Fgba",
        "colab_type": "code",
        "colab": {}
      },
      "cell_type": "code",
      "source": [
        "%%R\n",
        "\n",
        "R.version\n"
      ],
      "execution_count": 0,
      "outputs": []
    },
    {
      "metadata": {
        "id": "ZulWoy06Fgbe",
        "colab_type": "text"
      },
      "cell_type": "markdown",
      "source": [
        "---"
      ]
    },
    {
      "metadata": {
        "id": "MLQS5yVaFgbe",
        "colab_type": "code",
        "colab": {}
      },
      "cell_type": "code",
      "source": [
        "%%R\n",
        "## Dobson (1990) Page 93: Randomized Controlled Trial :\n",
        "counts <- c(18,17,15,20,10,20,25,13,12)\n",
        "outcome <- gl(3,1,9)\n",
        "treatment <- gl(3,3)\n",
        "print(d.AD <- data.frame(treatment, outcome, counts))\n",
        "glm.D93 <- glm(counts ~ outcome + treatment, family = poisson())\n",
        "anova(glm.D93)"
      ],
      "execution_count": 0,
      "outputs": []
    },
    {
      "metadata": {
        "id": "P2JXa1ONFgbi",
        "colab_type": "text"
      },
      "cell_type": "markdown",
      "source": [
        "---\n",
        "\n",
        "### Communicating with the outside world (Python)"
      ]
    },
    {
      "metadata": {
        "id": "-vhOZ28EFgbi",
        "colab_type": "code",
        "colab": {}
      },
      "cell_type": "code",
      "source": [
        "!ls -la\n",
        "\n",
        "FILENAME = \"jpd-pdapr-slides/Pothole_Repair_Requests.csv\""
      ],
      "execution_count": 0,
      "outputs": []
    },
    {
      "metadata": {
        "id": "9oQECVjUFgbm",
        "colab_type": "text"
      },
      "cell_type": "markdown",
      "source": [
        "<table>\n",
        "<tbody>\n",
        "<tr><td><b>\"`-i`\":</b></td><td>into R</td></tr>\n",
        "<tr><td><b>\"`-o`\":</b></td><td>out of R</td></tr>\n",
        "</tbody>\n",
        "</table>"
      ]
    },
    {
      "metadata": {
        "id": "pw-ioc15Fgbn",
        "colab_type": "code",
        "colab": {}
      },
      "cell_type": "code",
      "source": [
        "%%R -i FILENAME -o result\n",
        "print(FILENAME)\n",
        "result <- 2*pi"
      ],
      "execution_count": 0,
      "outputs": []
    },
    {
      "metadata": {
        "id": "jw6ORx-iFgbs",
        "colab_type": "code",
        "colab": {}
      },
      "cell_type": "code",
      "source": [
        "print(type(result))\n",
        "print(result)"
      ],
      "execution_count": 0,
      "outputs": []
    },
    {
      "metadata": {
        "id": "nzyaTOqmFgbw",
        "colab_type": "text"
      },
      "cell_type": "markdown",
      "source": [
        "---\n",
        "\n",
        "# Data table\n",
        "\n",
        "- Running code in 2 languages is nice...\n",
        "- ...but code objects should be passed back and forth\n",
        "- The \"data table\" is:\n",
        "  * a high-level data structure\n",
        "  * common (in concept) across Python, R (and SQL, etc...)\n",
        "\n",
        "---\n",
        "\n",
        "## Dataset\n",
        "\n",
        "<table>\n",
        "<tbody>\n",
        "<tr>\n",
        "  <td>\n",
        "  <ul>\n",
        "   <li>Cambridge nice for cyclists (picture's from NYC)</li>\n",
        "   <li class=\"fragment\">winter can be harsh</li>\n",
        "   <li class=\"fragment\">Cambridge is awesome, the city has an \"Open Data\" portal.</li>\n",
        "   <li class=\"fragment\">Today we shall obsess over potholes.</li>\n",
        "  </ul>\n",
        "  </td>\n",
        "  <td>\n",
        "     <a title=\"By David Shankbone (David Shankbone) [CC BY-SA 3.0 (http://creativecommons.org/licenses/by-sa/3.0) or GFDL (http://www.gnu.org/copyleft/fdl.html)], via Wikimedia Commons\" href=\"https://commons.wikimedia.org/wiki/File%3ALarge_pot_hole_on_2nd_Avenue_in_New_York_City.JPG\"><img width=\"512\" alt=\"Large pot hole on 2nd Avenue in New York City\" src=\"https://upload.wikimedia.org/wikipedia/commons/thumb/3/35/Large_pot_hole_on_2nd_Avenue_in_New_York_City.JPG/512px-Large_pot_hole_on_2nd_Avenue_in_New_York_City.JPG\"/></a>\n",
        "  </td>\n",
        "  </tr>\n",
        "  </tbody>\n",
        "  </table>\n",
        "<small><a href=\"https://data.cambridgema.gov/Public-Works/Pothole-Repair-Requests/h2y4-rf5c\">https://data.cambridgema.gov/Public-Works/Pothole-Repair-Requests/h2y4-rf5c</a></small>\n",
        "\n",
        "---\n",
        "\n",
        "## Reading from a CSV file\n",
        "\n",
        "### Pandas"
      ]
    },
    {
      "metadata": {
        "id": "rTterfllFgbw",
        "colab_type": "code",
        "colab": {}
      },
      "cell_type": "code",
      "source": [
        "# FILENAME = \"Pothole_Repair_Requests.csv\"\n",
        "import pandas\n",
        "pdataf = pandas.read_csv(FILENAME)"
      ],
      "execution_count": 0,
      "outputs": []
    },
    {
      "metadata": {
        "id": "O0QZbVDiFgb1",
        "colab_type": "text"
      },
      "cell_type": "markdown",
      "source": [
        "---\n",
        "\n",
        "### R \"magic\""
      ]
    },
    {
      "metadata": {
        "id": "kd7FF-7aFgb2",
        "colab_type": "code",
        "colab": {}
      },
      "cell_type": "code",
      "source": [
        "%%R -i FILENAME\n",
        "dataf <- read.csv(FILENAME)\n",
        "str(dataf)"
      ],
      "execution_count": 0,
      "outputs": []
    },
    {
      "metadata": {
        "id": "3_gV8QJFFgb5",
        "colab_type": "text"
      },
      "cell_type": "markdown",
      "source": [
        "---\n",
        "\n",
        "#### R has namespaces"
      ]
    },
    {
      "metadata": {
        "id": "eCa9dSm6Fgb6",
        "colab_type": "code",
        "colab": {}
      },
      "cell_type": "code",
      "source": [
        "%%R -i FILENAME\n",
        "dataf <- utils::read.csv(FILENAME)\n",
        "str(dataf)"
      ],
      "execution_count": 0,
      "outputs": []
    },
    {
      "metadata": {
        "id": "DWP8md4Y9pWS",
        "colab_type": "code",
        "colab": {}
      },
      "cell_type": "code",
      "source": [
        "%%R\n",
        "ls()"
      ],
      "execution_count": 0,
      "outputs": []
    },
    {
      "metadata": {
        "id": "L7ihUX28Fgb_",
        "colab_type": "text"
      },
      "cell_type": "markdown",
      "source": [
        "---\n",
        "\n",
        "### R from Python\n",
        "\n",
        "#### R packages in Python namespaces"
      ]
    },
    {
      "metadata": {
        "id": "U2cjpje0FgcA",
        "colab_type": "code",
        "colab": {}
      },
      "cell_type": "code",
      "source": [
        "from rpy2.robjects.packages import importr\n",
        "utils = importr('utils')"
      ],
      "execution_count": 0,
      "outputs": []
    },
    {
      "metadata": {
        "id": "-I0mFBwGFgcD",
        "colab_type": "text"
      },
      "cell_type": "markdown",
      "source": [
        "The Python object \"`utils`\" is a namespace.\n",
        "\n",
        "Write `utils.` in a cell and hit <kbd>tab</kbd>.\n",
        "\n",
        "---"
      ]
    },
    {
      "metadata": {
        "id": "yN3yNC0QFgcE",
        "colab_type": "code",
        "colab": {}
      },
      "cell_type": "code",
      "source": [
        "dataf = utils.read_csv(FILENAME)"
      ],
      "execution_count": 0,
      "outputs": []
    },
    {
      "metadata": {
        "id": "wlt7-b8FFgcH",
        "colab_type": "code",
        "colab": {}
      },
      "cell_type": "code",
      "source": [
        "print(type(dataf))\n",
        "print(dataf.colnames)"
      ],
      "execution_count": 0,
      "outputs": []
    },
    {
      "metadata": {
        "id": "2ZgADMVfFgcK",
        "colab_type": "text"
      },
      "cell_type": "markdown",
      "source": [
        "---\n",
        "\n",
        "# ggplot2 graphics\n",
        "\n",
        "Build graphics with:\n",
        "- \"mappings\": associate \"columns\" with visual dimensions\n",
        "- \"layers\"  : additive declarations to build a figure\n",
        "\n",
        "---\n",
        "\n",
        "### ggplot2 graphics\n",
        "\n",
        "<img src=\"http://lgautier.github.io/jpd-pdapr-slides/img/gg_mapping.png\" alt=\"ggplot2 data, aesthetics, and plot\">\n",
        "\n",
        "---"
      ]
    },
    {
      "metadata": {
        "id": "29PCkCLgFgcK",
        "colab_type": "code",
        "colab": {}
      },
      "cell_type": "code",
      "source": [
        "%%R\n",
        "if (.Platform$OS.type == \"unix\") {\n",
        "  # makes graphics prettier on my Linux system.\n",
        "  default_bitmapType <- getOption(\"bitmapType\")\n",
        "  options(bitmapType=\"cairo\")\n",
        "  # if issues with graphics, revert with\n",
        "  # options(bitmapType=default_bitmapType)\n",
        "}"
      ],
      "execution_count": 0,
      "outputs": []
    },
    {
      "metadata": {
        "id": "uBCJAhzyFgcM",
        "colab_type": "text"
      },
      "cell_type": "markdown",
      "source": [
        "---\n",
        "\n",
        "### First in R:\n",
        "\n",
        "Map the column `Status` to the visual dimension `x`."
      ]
    },
    {
      "metadata": {
        "id": "NxKev_8TFgcN",
        "colab_type": "code",
        "colab": {}
      },
      "cell_type": "code",
      "source": [
        "%%R -i dataf -h 400\n",
        "#The height of the figure is specified with \"-h 300\"\n",
        "library(ggplot2)\n",
        "\n",
        "p = ggplot(dataf) + \n",
        "    geom_bar(aes(x=Status))\n",
        "print(p)"
      ],
      "execution_count": 0,
      "outputs": []
    },
    {
      "metadata": {
        "id": "zflN3uNaFgcP",
        "colab_type": "text"
      },
      "cell_type": "markdown",
      "source": [
        "---\n",
        "\n",
        "### Map:\n",
        "- column `Status` to visual dimension `x`.\n",
        "- column `Platform` to visual dimension `y`."
      ]
    },
    {
      "metadata": {
        "id": "DTeo7hIQFgcQ",
        "colab_type": "code",
        "colab": {}
      },
      "cell_type": "code",
      "source": [
        "%%R -i dataf -h 300\n",
        "p = ggplot(dataf) + \n",
        "    geom_jitter(aes(x=Status, y=Platform))\n",
        "print(p)"
      ],
      "execution_count": 0,
      "outputs": []
    },
    {
      "metadata": {
        "id": "YAHKd6ITFgcT",
        "colab_type": "text"
      },
      "cell_type": "markdown",
      "source": [
        "---\n",
        "\n",
        "### Map:\n",
        "- column `Status` to visual dimension `x`.\n",
        "- column `Platform` to visual dimension `y`.\n",
        "- column `Action.Type` to visual dimension `color`."
      ]
    },
    {
      "metadata": {
        "id": "FyS00_kXFgcU",
        "colab_type": "code",
        "colab": {}
      },
      "cell_type": "code",
      "source": [
        "%%R -i dataf -w 800 -h 500 -r 100\n",
        "p = ggplot(dataf) + \n",
        "    geom_jitter(aes(x=Status, y=Platform, color=Action.Type))\n",
        "print(p)"
      ],
      "execution_count": 0,
      "outputs": []
    },
    {
      "metadata": {
        "id": "bvMLvk9PFgcX",
        "colab_type": "text"
      },
      "cell_type": "markdown",
      "source": [
        "---\n",
        "\n",
        "## Interlude: namespaces in R"
      ]
    },
    {
      "metadata": {
        "id": "XNkXyZVoFgcX",
        "colab_type": "code",
        "colab": {}
      },
      "cell_type": "code",
      "source": [
        "%%R -i dataf -h 300\n",
        "library(ggplot2)\n",
        "\n",
        "p = ggplot2::ggplot(dataf) + \n",
        "    ggplot2::geom_bar(ggplot2::aes(x=Status))\n",
        "print(p)"
      ],
      "execution_count": 0,
      "outputs": []
    },
    {
      "metadata": {
        "id": "ZkAouDn6Fgcb",
        "colab_type": "text"
      },
      "cell_type": "markdown",
      "source": [
        "---\n",
        "\n",
        "## R from Python"
      ]
    },
    {
      "metadata": {
        "id": "M6ho_60tFgcc",
        "colab_type": "code",
        "colab": {}
      },
      "cell_type": "code",
      "source": [
        "%%R\n",
        "p = ggplot2::ggplot(dataf) + \n",
        "    ggplot2::geom_bar(ggplot2::aes(x=Status))\n",
        "print(p)"
      ],
      "execution_count": 0,
      "outputs": []
    },
    {
      "metadata": {
        "id": "9-sxryH_Fgcd",
        "colab_type": "text"
      },
      "cell_type": "markdown",
      "source": [
        "<hr>"
      ]
    },
    {
      "metadata": {
        "id": "zIrMFWqNFgcf",
        "colab_type": "code",
        "colab": {}
      },
      "cell_type": "code",
      "source": [
        "from rpy2.robjects.lib import ggplot2\n",
        "import rpy2.ipython.ggplot as igp"
      ],
      "execution_count": 0,
      "outputs": []
    },
    {
      "metadata": {
        "id": "E4p6relEFgci",
        "colab_type": "code",
        "colab": {}
      },
      "cell_type": "code",
      "source": [
        "gp = ggplot2\n",
        "p = (gp.ggplot(dataf) + \n",
        "     gp.geom_bar(gp.aes_string(x='Status')))\n",
        "type(p)"
      ],
      "execution_count": 0,
      "outputs": []
    },
    {
      "metadata": {
        "id": "LZqFh2C-Fgcl",
        "colab_type": "text"
      },
      "cell_type": "markdown",
      "source": [
        "---"
      ]
    },
    {
      "metadata": {
        "id": "S4y4aRRvFgcm",
        "colab_type": "code",
        "colab": {}
      },
      "cell_type": "code",
      "source": [
        "from rpy2.ipython.ggplot import display_png\n",
        "# register display func with PNG formatter:\n",
        "png_formatter = get_ipython().display_formatter.formatters['image/png']\n",
        "dpi = png_formatter.for_type(ggplot2.GGPlot, display_png)"
      ],
      "execution_count": 0,
      "outputs": []
    },
    {
      "metadata": {
        "id": "XRg41D2IFgco",
        "colab_type": "text"
      },
      "cell_type": "markdown",
      "source": [
        "---"
      ]
    },
    {
      "metadata": {
        "id": "6yd15TfQFgco",
        "colab_type": "code",
        "colab": {}
      },
      "cell_type": "code",
      "source": [
        "p"
      ],
      "execution_count": 0,
      "outputs": []
    },
    {
      "metadata": {
        "id": "vA2WNunsFgcs",
        "colab_type": "text"
      },
      "cell_type": "markdown",
      "source": [
        "---"
      ]
    },
    {
      "metadata": {
        "id": "AKo0W3enFgcs",
        "colab_type": "code",
        "colab": {}
      },
      "cell_type": "code",
      "source": [
        "\n",
        "p + gp.theme_gray(base_size=20)"
      ],
      "execution_count": 0,
      "outputs": []
    },
    {
      "metadata": {
        "id": "VuJemjnPFgcx",
        "colab_type": "text"
      },
      "cell_type": "markdown",
      "source": [
        "---"
      ]
    },
    {
      "metadata": {
        "id": "hwDUtM1FFgcx",
        "colab_type": "code",
        "colab": {}
      },
      "cell_type": "code",
      "source": [
        "p = (gp.ggplot(dataf) + \n",
        "     gp.geom_bar(gp.aes_string(x='Platform')) +\n",
        "     gp.theme_gray(base_size=20))\n",
        "p"
      ],
      "execution_count": 0,
      "outputs": []
    },
    {
      "metadata": {
        "id": "_54ADDZFFgc0",
        "colab_type": "text"
      },
      "cell_type": "markdown",
      "source": [
        "---"
      ]
    },
    {
      "metadata": {
        "id": "x26erP2GFgc1",
        "colab_type": "code",
        "colab": {}
      },
      "cell_type": "code",
      "source": [
        "p = (gp.ggplot(dataf) + \n",
        "     gp.geom_bar(gp.aes_string(x='Platform')) +\n",
        "     gp.facet_grid('~Status') +\n",
        "     gp.theme_gray(base_size=20) +\n",
        "     gp.theme(**{'axis.text.x': gp.element_text(angle = 90, hjust = 1)}))\n",
        "p"
      ],
      "execution_count": 0,
      "outputs": []
    },
    {
      "metadata": {
        "id": "RYh5jZ8ZFgc4",
        "colab_type": "text"
      },
      "cell_type": "markdown",
      "source": [
        "---"
      ]
    },
    {
      "metadata": {
        "id": "Mil3k-LRFgc4",
        "colab_type": "code",
        "colab": {}
      },
      "cell_type": "code",
      "source": [
        "p + gp.scale_y_sqrt()"
      ],
      "execution_count": 0,
      "outputs": []
    },
    {
      "metadata": {
        "id": "-mPbx3PJFgc6",
        "colab_type": "text"
      },
      "cell_type": "markdown",
      "source": [
        "---\n",
        "\n",
        "# dplyr\n",
        "\n",
        "Manipulate data tables with (among others):\n",
        "\n",
        "<table>\n",
        "<tbody>\n",
        "<tr><td><b>mutate</b></td><td>modify/add column</td></tr>\n",
        "<tr><td><b>filter</b></td><td>filter rows</td></tr>\n",
        "<tr><td><b>select</b></td><td>select columns</td></tr>\n",
        "<tr><td><b>group_by</b></td><td>group rows</td></tr>\n",
        "<tr><td><b>summarize</b></td><td>summarize groups of rows</td></tr>\n",
        "</tbody>\n",
        "</table>\n",
        "\n",
        "---"
      ]
    },
    {
      "metadata": {
        "id": "eYXvMh_BFgc6",
        "colab_type": "code",
        "colab": {}
      },
      "cell_type": "code",
      "source": [
        "from rpy2.robjects.lib import dplyr\n",
        "ddataf = dplyr.DataFrame(dataf)"
      ],
      "execution_count": 0,
      "outputs": []
    },
    {
      "metadata": {
        "id": "zJg18a_wFgc9",
        "colab_type": "text"
      },
      "cell_type": "markdown",
      "source": [
        "---\n",
        "\n",
        "### Strings as R code"
      ]
    },
    {
      "metadata": {
        "id": "pmyT95eYFgc9",
        "colab_type": "code",
        "colab": {}
      },
      "cell_type": "code",
      "source": [
        "ddataf = \\\n",
        "    (ddataf.\n",
        "     mutate(date_submit='as.POSIXct(Date.Submitted, ' + \\\n",
        "\t                '           format=\"%m/%d/%Y %H:%M:%S\")',\n",
        "            date_complete='as.POSIXct(Date.Completed, ' + \\\n",
        "\t                '           format=\"%m/%d/%Y %H:%M:%S\")').\n",
        "     mutate(days_to_fix='as.numeric(date_complete - date_submit, ' +\\\n",
        "                                    'unit=\"days\")'))"
      ],
      "execution_count": 0,
      "outputs": []
    },
    {
      "metadata": {
        "id": "kglOcb0sFgc_",
        "colab_type": "text"
      },
      "cell_type": "markdown",
      "source": [
        "---"
      ]
    },
    {
      "metadata": {
        "id": "k2uKSMR1FgdA",
        "colab_type": "code",
        "colab": {}
      },
      "cell_type": "code",
      "source": [
        "dataf_plot = ddataf.filter('Status == \"Closed\"')\n",
        "p = (gp.ggplot(dataf_plot) + \n",
        "     gp.geom_density(gp.aes_string(x='days_to_fix')) +\n",
        "     gp.facet_grid('~Status') +\n",
        "     gp.scale_x_sqrt() +\n",
        "     gp.theme_gray(base_size=15) +\n",
        "     gp.theme(**{'legend.position': 'top'}))\n",
        "p"
      ],
      "execution_count": 0,
      "outputs": []
    },
    {
      "metadata": {
        "id": "ui9XHMMpFgdC",
        "colab_type": "text"
      },
      "cell_type": "markdown",
      "source": [
        "---"
      ]
    },
    {
      "metadata": {
        "id": "mZD_7F_DFgdD",
        "colab_type": "code",
        "colab": {}
      },
      "cell_type": "code",
      "source": [
        "p = (gp.ggplot(ddataf.filter('Status == \"Closed\"',\n",
        "                             'days_to_fix < 100')) + \n",
        "     gp.geom_histogram(gp.aes_string(x='days_to_fix'), bins=100) +\n",
        "     gp.facet_grid('~Status') +\n",
        "     gp.theme_gray(base_size=15) +\n",
        "     gp.theme(**{'legend.position': 'top'}))\n",
        "p"
      ],
      "execution_count": 0,
      "outputs": []
    },
    {
      "metadata": {
        "id": "-QP-qpY_FgdG",
        "colab_type": "text"
      },
      "cell_type": "markdown",
      "source": [
        "---\n",
        "\n",
        "## Extract coordinates from column \"Address\""
      ]
    },
    {
      "metadata": {
        "id": "GE0CEPHOFgdG",
        "colab_type": "code",
        "colab": {}
      },
      "cell_type": "code",
      "source": [
        "col_i = ddataf.colnames.index('Address')\n",
        "first_address = next(ddataf[col_i].iter_labels())\n",
        "first_address"
      ],
      "execution_count": 0,
      "outputs": []
    },
    {
      "metadata": {
        "id": "u2bVp0syFgdN",
        "colab_type": "code",
        "colab": {}
      },
      "cell_type": "code",
      "source": [
        "s_pat_float = '[+-]?[0-9.]+'\n",
        "s_pat_coords = '.+\\((%s), (%s)\\)$' % (s_pat_float, s_pat_float)\n",
        "import re\n",
        "pat_coords = re.compile(s_pat_coords,\n",
        "                        flags=re.DOTALL)\n",
        "pat_coords.match(first_address).groups()"
      ],
      "execution_count": 0,
      "outputs": []
    },
    {
      "metadata": {
        "id": "N2SEbb36FgdT",
        "colab_type": "text"
      },
      "cell_type": "markdown",
      "source": [
        "---\n",
        "\n",
        "## Final function"
      ]
    },
    {
      "metadata": {
        "id": "k2WZOZC8FgdV",
        "colab_type": "code",
        "colab": {}
      },
      "cell_type": "code",
      "source": [
        "from rpy2.robjects import NA_Real\n",
        "def extract_coords(address):\n",
        "    m = pat_coords.match(address)\n",
        "    if m is None:\n",
        "        return (NA_Real, NA_Real)\n",
        "    else:\n",
        "        return tuple(float(x) for x in m.groups())\n",
        "\n",
        "extract_coords(next(ddataf[col_i].iter_labels()))"
      ],
      "execution_count": 0,
      "outputs": []
    },
    {
      "metadata": {
        "id": "BkPnIPBTFgdX",
        "colab_type": "text"
      },
      "cell_type": "markdown",
      "source": [
        "---\n",
        "\n",
        "## Python and R entwinned"
      ]
    },
    {
      "metadata": {
        "id": "M-nGglwyFgdX",
        "colab_type": "code",
        "colab": {}
      },
      "cell_type": "code",
      "source": [
        "from rpy2.robjects.vectors import FloatVector\n",
        "from rpy2.robjects import globalenv\n",
        "\n",
        "globalenv['extract_lat'] = \\\n",
        "    lambda v: FloatVector(tuple(extract_coords(x)[0] for x in v))\n",
        "\n",
        "globalenv['extract_long'] = \\\n",
        "    lambda v: FloatVector(tuple(extract_coords(x)[1] for x in v))\n",
        "\n",
        "ddataf = \\\n",
        "    (ddataf.\n",
        "     mutate(lat='extract_lat(as.character(Address))',\n",
        "            long='extract_long(as.character(Address))'))"
      ],
      "execution_count": 0,
      "outputs": []
    },
    {
      "metadata": {
        "id": "Mk2A29ZwFgdZ",
        "colab_type": "text"
      },
      "cell_type": "markdown",
      "source": [
        "---"
      ]
    },
    {
      "metadata": {
        "id": "CtmdaZiWFgda",
        "colab_type": "code",
        "colab": {}
      },
      "cell_type": "code",
      "source": [
        "p = (gp.ggplot(ddataf) + \n",
        "     gp.geom_hex(gp.aes_string(y='lat', x='long'), bins=50) +\n",
        "     gp.scale_fill_continuous(trans=\"sqrt\") +\n",
        "     gp.theme_gray(base_size=15) +\n",
        "     gp.facet_grid('~Status'))\n",
        "p"
      ],
      "execution_count": 0,
      "outputs": []
    },
    {
      "metadata": {
        "id": "weegCROqFgdd",
        "colab_type": "text"
      },
      "cell_type": "markdown",
      "source": [
        "---"
      ]
    },
    {
      "metadata": {
        "id": "8DmXNohxFgde",
        "colab_type": "code",
        "colab": {}
      },
      "cell_type": "code",
      "source": [
        "dtf_grp_r = 'cut(days_to_fix, c(0,1,5,30,60,1500))'\n",
        "p = (gp.ggplot(ddataf.filter('Status == \"Closed\"')) + \n",
        "     gp.geom_point(gp.aes_string(y='lat', x='long',\n",
        "                                 color=dtf_grp_r),\n",
        "                  size=1) +\n",
        "     gp.facet_grid('~Status') +\n",
        "     gp.theme_dark(base_size=15) +\n",
        "     gp.scale_color_brewer(\"Days to fix\"))\n",
        "p"
      ],
      "execution_count": 0,
      "outputs": []
    },
    {
      "metadata": {
        "id": "8GdJzMRsFgdg",
        "colab_type": "text"
      },
      "cell_type": "markdown",
      "source": [
        "---"
      ]
    },
    {
      "metadata": {
        "id": "OX7gw9yRFgdg",
        "colab_type": "code",
        "colab": {}
      },
      "cell_type": "code",
      "source": [
        "p = (gp.ggplot(ddataf.filter('Status == \"Closed\"')) + \n",
        "     gp.geom_histogram(gp.aes_string(x='date_complete'), bins=30) +\n",
        "     gp.facet_grid('~Status') +\n",
        "     gp.theme_gray(base_size=15) +\n",
        "     gp.theme(**{'legend.position': 'top'}))\n",
        "p"
      ],
      "execution_count": 0,
      "outputs": []
    },
    {
      "metadata": {
        "id": "Es4v6mSiFgdi",
        "colab_type": "text"
      },
      "cell_type": "markdown",
      "source": [
        "---"
      ]
    },
    {
      "metadata": {
        "id": "Y-oo1YcfFgdl",
        "colab_type": "code",
        "colab": {}
      },
      "cell_type": "code",
      "source": [
        "p = (gp.ggplot(ddataf.filter('Status %in% c(\"Closed\", \"Resolved\")')) + \n",
        "     gp.geom_hex(gp.aes_string(x='date_submit', y='date_complete')) +\n",
        "     gp.facet_grid('~Status') +\n",
        "     gp.scale_fill_continuous(trans=\"log\") +\n",
        "     gp.theme(**{'legend.position': 'top',\n",
        "                 'axis.text.x': gp.element_text(angle=45, hjust=.5)}))\n",
        "p"
      ],
      "execution_count": 0,
      "outputs": []
    },
    {
      "metadata": {
        "id": "xa2B6MkoFgdn",
        "colab_type": "text"
      },
      "cell_type": "markdown",
      "source": [
        "---"
      ]
    },
    {
      "metadata": {
        "id": "Vi5FgaBNFgdo",
        "colab_type": "code",
        "colab": {}
      },
      "cell_type": "code",
      "source": [
        "extract_weekday = \"\"\"\n",
        "factor(weekdays(date_submit),\n",
        "       levels=c(\"Sunday\", \"Monday\",\n",
        "                \"Tuesday\", \"Wednesday\", \"Thursday\",\n",
        "                \"Friday\", \"Saturday\"))\n",
        "\"\"\"\n",
        "# transition iPhone / iOS\n",
        "ddataf = (ddataf.\n",
        "          mutate(year_submit='format(date_submit, format=\"%Y\")',\n",
        "                 month_submit='format(date_submit, format=\"%m\")',\n",
        "                 weeknum_submit='as.numeric(format(date_submit+3, \"%U\"))',\n",
        "                 weekday_submit=(extract_weekday)).\n",
        "                 filter('year_submit >= 2012',\n",
        "                 'Platform != \"\"'))"
      ],
      "execution_count": 0,
      "outputs": []
    },
    {
      "metadata": {
        "id": "dEoti0oqFgdq",
        "colab_type": "text"
      },
      "cell_type": "markdown",
      "source": [
        "---"
      ]
    },
    {
      "metadata": {
        "id": "M-vKRrjTFgdr",
        "colab_type": "code",
        "colab": {}
      },
      "cell_type": "code",
      "source": [
        "from IPython.core import display\n",
        "p = (gp.ggplot(ddataf) + \n",
        "     gp.geom_bar(gp.aes_string(x='(weekday_submit)', fill='Platform')) +\n",
        "     gp.scale_fill_brewer(palette = 'Set1') +\n",
        "     gp.scale_y_sqrt() +\n",
        "     gp.theme(**{'axis.text.x': gp.element_text(angle = 90, hjust = 1)}) +\n",
        "     gp.facet_grid('month_submit ~ year_submit'))\n",
        "display.Image(display_png(p, height=700))"
      ],
      "execution_count": 0,
      "outputs": []
    },
    {
      "metadata": {
        "id": "hxh8Jn0KFgdt",
        "colab_type": "text"
      },
      "cell_type": "markdown",
      "source": [
        "---"
      ]
    },
    {
      "metadata": {
        "id": "qM1ZtZaFFgdu",
        "colab_type": "code",
        "colab": {}
      },
      "cell_type": "code",
      "source": [
        "by_weekday = ddataf.group_by('weekday_submit')\n",
        "n_platforms_weekday = (by_weekday.\n",
        "                       summarise(n='length(unique(Platform))'))\n",
        "print(n_platforms_weekday)"
      ],
      "execution_count": 0,
      "outputs": []
    },
    {
      "metadata": {
        "id": "-4hon_CfGS3y",
        "colab_type": "text"
      },
      "cell_type": "markdown",
      "source": [
        "# Check if we can load the data.table package."
      ]
    },
    {
      "metadata": {
        "id": "45Y7TDqqWTvv",
        "colab_type": "code",
        "colab": {}
      },
      "cell_type": "code",
      "source": [
        "%%R\n",
        "\n",
        "library('data.table')"
      ],
      "execution_count": 0,
      "outputs": []
    },
    {
      "metadata": {
        "id": "Zk0PYSXVwZsr",
        "colab_type": "code",
        "colab": {}
      },
      "cell_type": "code",
      "source": [
        ""
      ],
      "execution_count": 0,
      "outputs": []
    }
  ]
}