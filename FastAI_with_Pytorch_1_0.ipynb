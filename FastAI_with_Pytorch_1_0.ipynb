{
  "nbformat": 4,
  "nbformat_minor": 0,
  "metadata": {
    "colab": {
      "name": "FastAI with Pytorch 1.0",
      "version": "0.3.2",
      "provenance": [],
      "include_colab_link": true
    },
    "kernelspec": {
      "name": "python3",
      "display_name": "Python 3"
    },
    "accelerator": "GPU"
  },
  "cells": [
    {
      "cell_type": "markdown",
      "metadata": {
        "id": "view-in-github",
        "colab_type": "text"
      },
      "source": [
        "[View in Colaboratory](https://colab.research.google.com/github/christianmerkwirth/colabs/blob/master/FastAI_with_Pytorch_1_0.ipynb)"
      ]
    },
    {
      "metadata": {
        "id": "JPiSXWh3l6dt",
        "colab_type": "code",
        "colab": {}
      },
      "cell_type": "code",
      "source": [
        "!pip install torch_nightly -f https://download.pytorch.org/whl/nightly/cu92/torch_nightly.html\n",
        "!pip install fastai"
      ],
      "execution_count": 0,
      "outputs": []
    },
    {
      "metadata": {
        "id": "aLrXkd-amGls",
        "colab_type": "code",
        "colab": {}
      },
      "cell_type": "code",
      "source": [
        "from fastai import *          # Quick access to most common functionality\n",
        "from fastai.vision import *   # Quick access to computer vision functionality"
      ],
      "execution_count": 0,
      "outputs": []
    },
    {
      "metadata": {
        "id": "P5V-a8wBnM_M",
        "colab_type": "code",
        "colab": {
          "base_uri": "https://localhost:8080/",
          "height": 207
        },
        "outputId": "f461d156-04ab-4e25-df83-a7d7cfa8be1a"
      },
      "cell_type": "code",
      "source": [
        "!wget http://files.fast.ai/data/examples/mnist_sample.tgz\n"
      ],
      "execution_count": 3,
      "outputs": [
        {
          "output_type": "stream",
          "text": [
            "--2018-10-13 13:36:23--  http://files.fast.ai/data/examples/mnist_sample.tgz\n",
            "Resolving files.fast.ai (files.fast.ai)... 67.205.15.147\n",
            "Connecting to files.fast.ai (files.fast.ai)|67.205.15.147|:80... connected.\n",
            "HTTP request sent, awaiting response... 200 OK\n",
            "Length: 3214948 (3.1M) [text/plain]\n",
            "Saving to: ‘mnist_sample.tgz’\n",
            "\n",
            "mnist_sample.tgz    100%[===================>]   3.07M  2.31MB/s    in 1.3s    \n",
            "\n",
            "2018-10-13 13:36:25 (2.31 MB/s) - ‘mnist_sample.tgz’ saved [3214948/3214948]\n",
            "\n"
          ],
          "name": "stdout"
        }
      ]
    },
    {
      "metadata": {
        "id": "_zWcAYEkoW8P",
        "colab_type": "code",
        "colab": {}
      },
      "cell_type": "code",
      "source": [
        "!tar -xvf mnist_sample.tgz"
      ],
      "execution_count": 0,
      "outputs": []
    },
    {
      "metadata": {
        "id": "zRP3hLCdnQ9v",
        "colab_type": "code",
        "colab": {
          "base_uri": "https://localhost:8080/",
          "height": 45
        },
        "outputId": "78166016-19cd-4f70-bdd8-16f5cb5e7bf5"
      },
      "cell_type": "code",
      "source": [
        "data = image_data_from_folder(\"mnist_sample\", ds_tfms=(rand_pad(2, 28), []))\n",
        "img,label = data.train_ds[0]\n",
        "img"
      ],
      "execution_count": 5,
      "outputs": [
        {
          "output_type": "execute_result",
          "data": {
            "image/png": "[encoded data removed]",
            "image/jpeg": "[encoded data removed]",
            "text/plain": [
              "Image (3, 28, 28)"
            ]
          },
          "metadata": {
            "tags": []
          },
          "execution_count": 5
        }
      ]
    },
    {
      "metadata": {
        "id": "Z_RK46WdneHA",
        "colab_type": "code",
        "colab": {
          "base_uri": "https://localhost:8080/",
          "height": 86
        },
        "outputId": "ed8f5ade-ef36-4b09-da32-eaa85e738f58"
      },
      "cell_type": "code",
      "source": [
        "learn = ConvLearner(data, tvm.resnet18, metrics=accuracy)\n",
        "learn.fit_one_cycle(1, 0.01)\n"
      ],
      "execution_count": 6,
      "outputs": [
        {
          "output_type": "stream",
          "text": [
            "Downloading: \"https://download.pytorch.org/models/resnet18-5c106cde.pth\" to /root/.torch/models/resnet18-5c106cde.pth\n",
            "100%|██████████| 46827520/46827520 [00:01<00:00, 43882960.76it/s]\n"
          ],
          "name": "stderr"
        },
        {
          "output_type": "stream",
          "text": [
            "epoch  train loss  valid loss  accuracy\n",
            "0      0.047625    0.013401    0.995093\n"
          ],
          "name": "stdout"
        }
      ]
    },
    {
      "metadata": {
        "id": "rWvDOvjOnjYA",
        "colab_type": "code",
        "colab": {
          "base_uri": "https://localhost:8080/",
          "height": 35
        },
        "outputId": "a4dc112d-cebb-43d2-ad3d-478376854cdb"
      },
      "cell_type": "code",
      "source": [
        "accuracy(*learn.get_preds())"
      ],
      "execution_count": 7,
      "outputs": [
        {
          "output_type": "execute_result",
          "data": {
            "text/plain": [
              "tensor(0.9951)"
            ]
          },
          "metadata": {
            "tags": []
          },
          "execution_count": 7
        }
      ]
    }
  ]
}