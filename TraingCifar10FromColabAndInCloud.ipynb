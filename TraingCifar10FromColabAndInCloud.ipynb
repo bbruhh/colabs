{
  "nbformat": 4,
  "nbformat_minor": 0,
  "metadata": {
    "colab": {
      "name": "TraingCifar10FromColabAndInCloud",
      "version": "0.3.2",
      "provenance": [],
      "include_colab_link": true
    },
    "kernelspec": {
      "name": "python2",
      "display_name": "Python 2"
    },
    "accelerator": "GPU"
  },
  "cells": [
    {
      "cell_type": "markdown",
      "metadata": {
        "id": "view-in-github",
        "colab_type": "text"
      },
      "source": [
        "[View in Colaboratory](https://colab.research.google.com/github/christianmerkwirth/colabs/blob/master/TraingCifar10FromColabAndInCloud.ipynb)"
      ]
    },
    {
      "metadata": {
        "id": "OFoMEfgelE2z",
        "colab_type": "code",
        "colab": {}
      },
      "cell_type": "code",
      "source": [
        "!git clone https://github.com/tensorflow/models.git"
      ],
      "execution_count": 0,
      "outputs": []
    },
    {
      "metadata": {
        "id": "JLR9BFdilOUX",
        "colab_type": "code",
        "colab": {}
      },
      "cell_type": "code",
      "source": [
        "import os\n",
        "os.chdir('models/tutorials/image/cifar10_estimator/')"
      ],
      "execution_count": 0,
      "outputs": []
    },
    {
      "metadata": {
        "id": "uDWrcFj-YPe_",
        "colab_type": "text"
      },
      "cell_type": "markdown",
      "source": [
        "First let's convert the training data to tfrecord format."
      ]
    },
    {
      "metadata": {
        "id": "7L_wLjBamfZR",
        "colab_type": "code",
        "colab": {}
      },
      "cell_type": "code",
      "source": [
        "!python generate_cifar10_tfrecords.py --data-dir=${PWD}/cifar-10-data"
      ],
      "execution_count": 0,
      "outputs": []
    },
    {
      "metadata": {
        "id": "1uhhnpgnbn1h",
        "colab_type": "code",
        "colab": {}
      },
      "cell_type": "code",
      "source": [
        "!ls -lah ${PWD}/cifar-10-data"
      ],
      "execution_count": 0,
      "outputs": []
    },
    {
      "metadata": {
        "id": "gCk3Nw0hYYTK",
        "colab_type": "text"
      },
      "cell_type": "markdown",
      "source": [
        "Run the model training locally (on the notebook instance). Use the python modules from the git repo."
      ]
    },
    {
      "metadata": {
        "id": "D5JooW1RmlxH",
        "colab_type": "code",
        "colab": {}
      },
      "cell_type": "code",
      "source": [
        "!python cifar10_main.py --data-dir=${PWD}/cifar-10-data \\\n",
        "                       --job-dir=/tmp/cifar10 \\\n",
        "                       --num-gpus=1 \\\n",
        "                       --train-steps=2000"
      ],
      "execution_count": 0,
      "outputs": []
    },
    {
      "metadata": {
        "id": "EG-v_4zFaEja",
        "colab_type": "text"
      },
      "cell_type": "markdown",
      "source": [
        "Authenticate to enable access to gcp."
      ]
    },
    {
      "metadata": {
        "id": "zGokUQuE_oRA",
        "colab_type": "code",
        "colab": {}
      },
      "cell_type": "code",
      "source": [
        "from google.colab import auth\n",
        "auth.authenticate_user()"
      ],
      "execution_count": 0,
      "outputs": []
    },
    {
      "metadata": {
        "id": "64D6_CeDafyy",
        "colab_type": "text"
      },
      "cell_type": "markdown",
      "source": [
        "Start the multigpu training. \n",
        "\n",
        "**WARNING. This training will run on GCP and will be billed against your account.**"
      ]
    },
    {
      "metadata": {
        "id": "MwHG-4Ai8jOS",
        "colab_type": "code",
        "colab": {}
      },
      "cell_type": "code",
      "source": [
        "%%bash\n",
        "\n",
        "gcloud config set compute/region us-central1\n",
        "gcloud config set project MYCOOLPROJECTNAME\n",
        "\n",
        "# Make sure that the bucket is in the same region as the compute to allow fast\n",
        "# data transfer.\n",
        "MY_BUCKET=gs://MYCOOLBUCKETNAME\n",
        "# Now we copy the training data from the notebook local storage to the cloud\n",
        "# bucket.\n",
        "gsutil cp -r ${PWD}/cifar-10-data $MY_BUCKET\n",
        "\n",
        "# Move up one directory level since we need to have the code packaged into a\n",
        "# package directory.\n",
        "cd ..\n",
        "gcloud ml-engine jobs submit training cifarmultigpu_20180806_01 \\\n",
        "    --runtime-version 1.4 \\\n",
        "    --job-dir=$MY_BUCKET/model_dirs/cifarmultigpu \\\n",
        "    --config cifar10_estimator/cmle_config.yaml \\\n",
        "    --package-path cifar10_estimator/ \\\n",
        "    --module-name cifar10_estimator.cifar10_main \\\n",
        "    -- \\\n",
        "    --data-dir=$MY_BUCKET/cifar-10-data \\\n",
        "    --num-gpus=4 \\\n",
        "    --train-steps=40000"
      ],
      "execution_count": 0,
      "outputs": []
    }
  ]
}