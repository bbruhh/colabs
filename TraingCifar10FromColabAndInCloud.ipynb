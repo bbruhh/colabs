{
  "nbformat": 4,
  "nbformat_minor": 0,
  "metadata": {
    "colab": {
      "name": "TraingCifar10FromColabAndInCloud",
      "version": "0.3.2",
      "provenance": [],
      "collapsed_sections": [],
      "include_colab_link": true
    },
    "kernelspec": {
      "name": "python2",
      "display_name": "Python 2"
    },
    "accelerator": "GPU"
  },
  "cells": [
    {
      "cell_type": "markdown",
      "metadata": {
        "id": "view-in-github",
        "colab_type": "text"
      },
      "source": [
        "[View in Colaboratory](https://colab.research.google.com/github/christianmerkwirth/colabs/blob/master/TraingCifar10FromColabAndInCloud.ipynb)"
      ]
    },
    {
      "metadata": {
        "id": "OFoMEfgelE2z",
        "colab_type": "code",
        "colab": {}
      },
      "cell_type": "code",
      "source": [
        "!git clone https://github.com/tensorflow/models.git"
      ],
      "execution_count": 0,
      "outputs": []
    },
    {
      "metadata": {
        "id": "JLR9BFdilOUX",
        "colab_type": "code",
        "colab": {}
      },
      "cell_type": "code",
      "source": [
        "import os\n",
        "os.chdir('models/tutorials/image/cifar10_estimator/')"
      ],
      "execution_count": 0,
      "outputs": []
    },
    {
      "metadata": {
        "id": "uDWrcFj-YPe_",
        "colab_type": "text"
      },
      "cell_type": "markdown",
      "source": [
        "First let's convert the training data to tfrecord format."
      ]
    },
    {
      "metadata": {
        "id": "7L_wLjBamfZR",
        "colab_type": "code",
        "colab": {}
      },
      "cell_type": "code",
      "source": [
        "!python generate_cifar10_tfrecords.py --data-dir=${PWD}/cifar-10-data"
      ],
      "execution_count": 0,
      "outputs": []
    },
    {
      "metadata": {
        "id": "1uhhnpgnbn1h",
        "colab_type": "code",
        "colab": {}
      },
      "cell_type": "code",
      "source": [
        "!ls -lah ${PWD}/cifar-10-data"
      ],
      "execution_count": 0,
      "outputs": []
    },
    {
      "metadata": {
        "id": "rJ-6IBxuT0tj",
        "colab_type": "code",
        "colab": {}
      },
      "cell_type": "code",
      "source": [
        "LOG_DIR = \"/tmp/cifar10\"\n",
        "!mkdir -p {LOG_DIR}"
      ],
      "execution_count": 0,
      "outputs": []
    },
    {
      "metadata": {
        "id": "uIDTAN-TSxr5",
        "colab_type": "text"
      },
      "cell_type": "markdown",
      "source": [
        "**Execute the cell below if you want to launch Tensorboard for monitoring the training on Colab. This starts a longer running install of the ngrok binary that might be unsafe. You can execute all subsequent cells in this Colab without starting Tensorboard. Use at own risk.**"
      ]
    },
    {
      "metadata": {
        "id": "4ABNV46qM27c",
        "colab_type": "code",
        "colab": {}
      },
      "cell_type": "code",
      "source": [
        "# Launch Tensorboard to monitor the training on the Colab host instance.\n",
        "\n",
        "# First we need to install ngrok.\n",
        "!wget https://bin.equinox.io/c/4VmDzA7iaHb/ngrok-stable-linux-amd64.zip \n",
        "!unzip -o ngrok-stable-linux-amd64.zip\n",
        "\n",
        "print('Starting tensorboard')\n",
        "# Start tensorboard on the Colab host instance.\n",
        "get_ipython().system_raw(\n",
        "    'tensorboard --logdir {} --host 0.0.0.0 --port 6006 &'.format(LOG_DIR)\n",
        ")\n",
        "\n",
        "print('Starting ngrok')\n",
        "# Use ngrok to allow tunneling into localhost.\n",
        "get_ipython().system_raw('./ngrok http 6006 &')\n",
        "\n",
        "import time\n",
        "print('Wait a moment for things to start up.')\n",
        "time.sleep(5)\n",
        "\n",
        "print('Retrieving tensorboard url')\n",
        "# Last, show the Tensorboard url.\n",
        "!curl -s http://localhost:4040/api/tunnels | python -c \\\n",
        "    \"import sys, json; print(json.load(sys.stdin)['tunnels'][0]['public_url'])\""
      ],
      "execution_count": 0,
      "outputs": []
    },
    {
      "metadata": {
        "id": "gCk3Nw0hYYTK",
        "colab_type": "text"
      },
      "cell_type": "markdown",
      "source": [
        "**Run the model training locally (on the Colab host instance), using the python modules from the git repo.**"
      ]
    },
    {
      "metadata": {
        "id": "D5JooW1RmlxH",
        "colab_type": "code",
        "colab": {}
      },
      "cell_type": "code",
      "source": [
        "%set_env LOG_DIR={LOG_DIR}\n",
        "!echo \"Starting training in $LOG_DIR\"\n",
        "!python cifar10_main.py --job-dir=$LOG_DIR \\\n",
        "                        --data-dir=${PWD}/cifar-10-data  \\\n",
        "                        --num-gpus=1 \\\n",
        "                        --train-steps=6000"
      ],
      "execution_count": 0,
      "outputs": []
    },
    {
      "metadata": {
        "id": "ctmIPUa_SR8O",
        "colab_type": "text"
      },
      "cell_type": "markdown",
      "source": [
        "**Next we move from the Colab host instance to Google Cloud Platform (GCP).**\n"
      ]
    },
    {
      "metadata": {
        "id": "EG-v_4zFaEja",
        "colab_type": "text"
      },
      "cell_type": "markdown",
      "source": [
        "Authenticate to enable access to GCP."
      ]
    },
    {
      "metadata": {
        "id": "zGokUQuE_oRA",
        "colab_type": "code",
        "colab": {}
      },
      "cell_type": "code",
      "source": [
        "from google.colab import auth\n",
        "auth.authenticate_user()"
      ],
      "execution_count": 0,
      "outputs": []
    },
    {
      "metadata": {
        "id": "64D6_CeDafyy",
        "colab_type": "text"
      },
      "cell_type": "markdown",
      "source": [
        "Start the multigpu training. \n",
        "\n",
        "**WARNING. This training will run on GCP and will be billed against your GCP account.**"
      ]
    },
    {
      "metadata": {
        "id": "MwHG-4Ai8jOS",
        "colab_type": "code",
        "colab": {}
      },
      "cell_type": "code",
      "source": [
        "%%bash\n",
        "\n",
        "gcloud config set compute/region us-central1\n",
        "gcloud config set project MYAWESOMEPROJECT\n",
        "\n",
        "# Make sure that the bucket is in the same region as the compute to allow fast\n",
        "# data transfer.\n",
        "MY_BUCKET=gs://MYAWESOMEBUCKET\n",
        "# Now we copy the training data from the notebook local storage to the cloud\n",
        "# bucket.\n",
        "gsutil cp -r ${PWD}/cifar-10-data $MY_BUCKET\n",
        "\n",
        "# Move up one directory level since we need to have the code packaged into a\n",
        "# package directory.\n",
        "cd ..\n",
        "gcloud ml-engine jobs submit training cifarmultigpu_$(date +%s) \\\n",
        "    --runtime-version 1.4 \\\n",
        "    --job-dir=$MY_BUCKET/model_dirs/cifarmultigpu \\\n",
        "    --config cifar10_estimator/cmle_config.yaml \\\n",
        "    --package-path cifar10_estimator/ \\\n",
        "    --module-name cifar10_estimator.cifar10_main \\\n",
        "    -- \\\n",
        "    --data-dir=$MY_BUCKET/cifar-10-data \\\n",
        "    --num-gpus=4 \\\n",
        "    --train-steps=10000"
      ],
      "execution_count": 0,
      "outputs": []
    }
  ]
}