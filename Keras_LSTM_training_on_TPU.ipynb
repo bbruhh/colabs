{
  "nbformat": 4,
  "nbformat_minor": 0,
  "metadata": {
    "colab": {
      "name": "Keras LSTM training on TPU",
      "version": "0.3.2",
      "provenance": [],
      "collapsed_sections": [],
      "include_colab_link": true
    },
    "kernelspec": {
      "name": "python3",
      "display_name": "Python 3"
    },
    "accelerator": "TPU"
  },
  "cells": [
    {
      "cell_type": "markdown",
      "metadata": {
        "id": "view-in-github",
        "colab_type": "text"
      },
      "source": [
        "[View in Colaboratory](https://colab.research.google.com/github/christianmerkwirth/colabs/blob/master/Keras_LSTM_training_on_TPU.ipynb)"
      ]
    },
    {
      "metadata": {
        "id": "ya06BE0ZU526",
        "colab_type": "code",
        "colab": {}
      },
      "cell_type": "code",
      "source": [
        "import tensorflow as tf\n",
        "from tensorflow.keras.datasets import imdb\n",
        "from tensorflow.keras.preprocessing import sequence\n",
        "from tensorflow.python.keras.layers import Input, LSTM, Bidirectional, Dense, Embedding"
      ],
      "execution_count": 0,
      "outputs": []
    },
    {
      "metadata": {
        "id": "_uSZchXTVOHr",
        "colab_type": "code",
        "colab": {}
      },
      "cell_type": "code",
      "source": [
        "# Number of words to consider as features\n",
        "max_features = 10000\n",
        "# Cut texts after this number of words (among top max_features most common words)\n",
        "maxlen = 500\n",
        "\n",
        "# Load IMDB sentiment data. Skip top most common words.\n",
        "(x_train, y_train), (x_test, y_test) = imdb.load_data(num_words=max_features,\n",
        "                                                      skip_top=10)\n",
        "\n",
        "# Reverse sequences\n",
        "x_train = [x[::-1] for x in x_train]\n",
        "x_test = [x[::-1] for x in x_test]\n",
        "\n",
        "# Pad sequences\n",
        "x_train = sequence.pad_sequences(x_train, maxlen=maxlen)\n",
        "x_test = sequence.pad_sequences(x_test, maxlen=maxlen)"
      ],
      "execution_count": 0,
      "outputs": []
    },
    {
      "metadata": {
        "id": "p35nSfjbVVBE",
        "colab_type": "code",
        "colab": {}
      },
      "cell_type": "code",
      "source": [
        "def make_model(batch_size=None):\n",
        "  source = Input(shape=(maxlen,), batch_size=batch_size, dtype=tf.int32, name='Input')\n",
        "  embedding = Embedding(input_dim=max_features, output_dim=196, name='Embedding')(source)\n",
        "  lstm = LSTM(32, name = 'LSTM')(embedding)\n",
        "  predicted_var = Dense(1, activation='sigmoid', name='Output')(lstm)\n",
        "  model = tf.keras.Model(inputs=[source], outputs=[predicted_var])\n",
        "  model.compile(\n",
        "      optimizer=tf.train.RMSPropOptimizer(learning_rate=0.01),\n",
        "      loss='binary_crossentropy',\n",
        "      metrics=['acc'])\n",
        "  return model\n",
        "   "
      ],
      "execution_count": 0,
      "outputs": []
    },
    {
      "metadata": {
        "id": "bivVZS0jZhxg",
        "colab_type": "code",
        "outputId": "1e68ae7a-b178-49a7-86ad-a51bea053dfa",
        "colab": {
          "base_uri": "https://localhost:8080/",
          "height": 272
        }
      },
      "cell_type": "code",
      "source": [
        "tf.keras.backend.clear_session()\n",
        "training_model = make_model(batch_size = 128)\n",
        "training_model.summary()"
      ],
      "execution_count": 12,
      "outputs": [
        {
          "output_type": "stream",
          "text": [
            "_________________________________________________________________\n",
            "Layer (type)                 Output Shape              Param #   \n",
            "=================================================================\n",
            "Input (InputLayer)           (128, 500)                0         \n",
            "_________________________________________________________________\n",
            "Embedding (Embedding)        (128, 500, 196)           1960000   \n",
            "_________________________________________________________________\n",
            "LSTM (LSTM)                  (128, 32)                 29312     \n",
            "_________________________________________________________________\n",
            "Output (Dense)               (128, 1)                  33        \n",
            "=================================================================\n",
            "Total params: 1,989,345\n",
            "Trainable params: 1,989,345\n",
            "Non-trainable params: 0\n",
            "_________________________________________________________________\n"
          ],
          "name": "stdout"
        }
      ]
    },
    {
      "metadata": {
        "id": "xeGmIQX2aJvw",
        "colab_type": "code",
        "outputId": "e8be77a0-d3df-435d-dc3a-2c736cc2592c",
        "colab": {
          "base_uri": "https://localhost:8080/",
          "height": 578
        }
      },
      "cell_type": "code",
      "source": [
        "import os\n",
        "# This address identifies the TPU we'll use when configuring TensorFlow.\n",
        "TPU_WORKER = 'grpc://' + os.environ['COLAB_TPU_ADDR']\n",
        "tf.logging.set_verbosity(tf.logging.INFO)\n",
        "\n",
        "tpu_model = tf.contrib.tpu.keras_to_tpu_model(\n",
        "    training_model,\n",
        "    strategy=tf.contrib.tpu.TPUDistributionStrategy(\n",
        "        tf.contrib.cluster_resolver.TPUClusterResolver(TPU_WORKER)))\n",
        "\n",
        "tpu_model.summary()"
      ],
      "execution_count": 13,
      "outputs": [
        {
          "output_type": "stream",
          "text": [
            "INFO:tensorflow:Querying Tensorflow master (b'grpc://10.84.169.18:8470') for TPU system metadata.\n",
            "INFO:tensorflow:Found TPU system:\n",
            "INFO:tensorflow:*** Num TPU Cores: 8\n",
            "INFO:tensorflow:*** Num TPU Workers: 1\n",
            "INFO:tensorflow:*** Num TPU Cores Per Worker: 8\n",
            "INFO:tensorflow:*** Available Device: _DeviceAttributes(/job:worker/replica:0/task:0/device:CPU:0, CPU, -1, 16607817266322147106)\n",
            "INFO:tensorflow:*** Available Device: _DeviceAttributes(/job:worker/replica:0/task:0/device:XLA_CPU:0, XLA_CPU, 17179869184, 2392198371098643890)\n",
            "INFO:tensorflow:*** Available Device: _DeviceAttributes(/job:worker/replica:0/task:0/device:XLA_GPU:0, XLA_GPU, 17179869184, 12223693574578974246)\n",
            "INFO:tensorflow:*** Available Device: _DeviceAttributes(/job:worker/replica:0/task:0/device:TPU:0, TPU, 17179869184, 14938181096751591749)\n",
            "INFO:tensorflow:*** Available Device: _DeviceAttributes(/job:worker/replica:0/task:0/device:TPU:1, TPU, 17179869184, 17355514275322943378)\n",
            "INFO:tensorflow:*** Available Device: _DeviceAttributes(/job:worker/replica:0/task:0/device:TPU:2, TPU, 17179869184, 11723715951758016726)\n",
            "INFO:tensorflow:*** Available Device: _DeviceAttributes(/job:worker/replica:0/task:0/device:TPU:3, TPU, 17179869184, 1459607297121126331)\n",
            "INFO:tensorflow:*** Available Device: _DeviceAttributes(/job:worker/replica:0/task:0/device:TPU:4, TPU, 17179869184, 4944959457452629657)\n",
            "INFO:tensorflow:*** Available Device: _DeviceAttributes(/job:worker/replica:0/task:0/device:TPU:5, TPU, 17179869184, 9027677047906372560)\n",
            "INFO:tensorflow:*** Available Device: _DeviceAttributes(/job:worker/replica:0/task:0/device:TPU:6, TPU, 17179869184, 7272081923171627091)\n",
            "INFO:tensorflow:*** Available Device: _DeviceAttributes(/job:worker/replica:0/task:0/device:TPU:7, TPU, 17179869184, 8823595965899139960)\n",
            "INFO:tensorflow:*** Available Device: _DeviceAttributes(/job:worker/replica:0/task:0/device:TPU_SYSTEM:0, TPU_SYSTEM, 17179869184, 15412847592323607471)\n",
            "WARNING:tensorflow:tpu_model (from tensorflow.contrib.tpu.python.tpu.keras_support) is experimental and may change or be removed at any time, and without warning.\n",
            "_________________________________________________________________\n",
            "Layer (type)                 Output Shape              Param #   \n",
            "=================================================================\n",
            "Input (InputLayer)           (128, 500)                0         \n",
            "_________________________________________________________________\n",
            "Embedding (Embedding)        (128, 500, 196)           1960000   \n",
            "_________________________________________________________________\n",
            "LSTM (LSTM)                  (128, 32)                 29312     \n",
            "_________________________________________________________________\n",
            "Output (Dense)               (128, 1)                  33        \n",
            "=================================================================\n",
            "Total params: 1,989,345\n",
            "Trainable params: 1,989,345\n",
            "Non-trainable params: 0\n",
            "_________________________________________________________________\n"
          ],
          "name": "stdout"
        }
      ]
    },
    {
      "metadata": {
        "id": "XlSm1vd5bteH",
        "colab_type": "code",
        "outputId": "5690486a-6ba8-4eb7-96cc-35feca18fc9a",
        "colab": {
          "base_uri": "https://localhost:8080/",
          "height": 1805
        }
      },
      "cell_type": "code",
      "source": [
        "import time\n",
        "start_time = time.time()\n",
        "\n",
        "history = tpu_model.fit(x_train, y_train,\n",
        "                    epochs=40,\n",
        "                    batch_size=128 * 8,\n",
        "                    validation_split=0.1)\n",
        "print(\"--- %s seconds ---\" % (time.time() - start_time))\n",
        "\n",
        "tpu_model.save_weights('./tpu_model.h5', overwrite=True)"
      ],
      "execution_count": 14,
      "outputs": [
        {
          "output_type": "stream",
          "text": [
            "Train on 25000 samples, validate on 2500 samples\n",
            "Epoch 1/40\n",
            "INFO:tensorflow:New input shapes; (re-)compiling: mode=train (# of cores 8), [TensorSpec(shape=(128,), dtype=tf.int32, name='core_id0'), TensorSpec(shape=(128, 500), dtype=tf.int32, name='Input_10'), TensorSpec(shape=(128, 1), dtype=tf.float32, name='Output_target_30')]\n",
            "INFO:tensorflow:Overriding default placeholder.\n",
            "INFO:tensorflow:Remapping placeholder for Input\n",
            "INFO:tensorflow:Started compiling\n",
            "INFO:tensorflow:Finished compiling. Time elapsed: 4.553447484970093 secs\n",
            "INFO:tensorflow:Setting weights on TPU model.\n",
            "23552/25000 [===========================>..] - ETA: 1s - loss: 0.6934 - acc: 0.4823INFO:tensorflow:New input shapes; (re-)compiling: mode=train (# of cores 8), [TensorSpec(shape=(53,), dtype=tf.int32, name='core_id0'), TensorSpec(shape=(53, 500), dtype=tf.int32, name='Input_10'), TensorSpec(shape=(53, 1), dtype=tf.float32, name='Output_target_30')]\n",
            "INFO:tensorflow:Overriding default placeholder.\n",
            "INFO:tensorflow:Remapping placeholder for Input\n",
            "INFO:tensorflow:Started compiling\n",
            "INFO:tensorflow:Finished compiling. Time elapsed: 5.848770380020142 secs\n",
            "24576/25000 [============================>.] - ETA: 0s - loss: 0.6934 - acc: 0.4820INFO:tensorflow:New input shapes; (re-)compiling: mode=eval (# of cores 8), [TensorSpec(shape=(128,), dtype=tf.int32, name='core_id_10'), TensorSpec(shape=(128, 500), dtype=tf.int32, name='Input_10'), TensorSpec(shape=(128, 1), dtype=tf.float32, name='Output_target_30')]\n",
            "INFO:tensorflow:Overriding default placeholder.\n",
            "INFO:tensorflow:Remapping placeholder for Input\n",
            "INFO:tensorflow:Started compiling\n",
            "INFO:tensorflow:Finished compiling. Time elapsed: 6.044278144836426 secs\n",
            "INFO:tensorflow:New input shapes; (re-)compiling: mode=eval (# of cores 8), [TensorSpec(shape=(56,), dtype=tf.int32, name='core_id_10'), TensorSpec(shape=(56, 500), dtype=tf.int32, name='Input_10'), TensorSpec(shape=(56, 1), dtype=tf.float32, name='Output_target_30')]\n",
            "INFO:tensorflow:Overriding default placeholder.\n",
            "INFO:tensorflow:Remapping placeholder for Input\n",
            "INFO:tensorflow:Started compiling\n",
            "INFO:tensorflow:Finished compiling. Time elapsed: 7.161631107330322 secs\n",
            "25000/25000 [==============================] - 55s 2ms/step - loss: 0.6934 - acc: 0.4817 - val_loss: 0.6935 - val_acc: 0.4732\n",
            "Epoch 2/40\n",
            "25000/25000 [==============================] - 13s 526us/step - loss: 0.6933 - acc: 0.4900 - val_loss: 0.6938 - val_acc: 0.4884\n",
            "Epoch 3/40\n",
            "25000/25000 [==============================] - 13s 525us/step - loss: 0.6933 - acc: 0.4959 - val_loss: 0.6934 - val_acc: 0.4928\n",
            "Epoch 4/40\n",
            "25000/25000 [==============================] - 13s 526us/step - loss: 0.6929 - acc: 0.5088 - val_loss: 0.6958 - val_acc: 0.4880\n",
            "Epoch 5/40\n",
            "25000/25000 [==============================] - 13s 522us/step - loss: 0.6918 - acc: 0.5210 - val_loss: 0.6916 - val_acc: 0.5212\n",
            "Epoch 6/40\n",
            "25000/25000 [==============================] - 13s 522us/step - loss: 0.7089 - acc: 0.5525 - val_loss: 0.6707 - val_acc: 0.5974\n",
            "Epoch 7/40\n",
            "25000/25000 [==============================] - 13s 520us/step - loss: 0.6880 - acc: 0.6112 - val_loss: 0.6753 - val_acc: 0.5557\n",
            "Epoch 8/40\n",
            "25000/25000 [==============================] - 13s 523us/step - loss: 0.6208 - acc: 0.6654 - val_loss: 0.8120 - val_acc: 0.4976\n",
            "Epoch 9/40\n",
            "25000/25000 [==============================] - 13s 521us/step - loss: 0.6033 - acc: 0.6904 - val_loss: 0.5844 - val_acc: 0.6919\n",
            "Epoch 10/40\n",
            "25000/25000 [==============================] - 13s 523us/step - loss: 0.4978 - acc: 0.7791 - val_loss: 0.5454 - val_acc: 0.7256\n",
            "Epoch 11/40\n",
            "25000/25000 [==============================] - 13s 522us/step - loss: 0.4870 - acc: 0.7860 - val_loss: 0.3686 - val_acc: 0.8542\n",
            "Epoch 12/40\n",
            "25000/25000 [==============================] - 13s 522us/step - loss: 0.3573 - acc: 0.8526 - val_loss: 0.3912 - val_acc: 0.8357\n",
            "Epoch 13/40\n",
            "25000/25000 [==============================] - 13s 521us/step - loss: 0.2808 - acc: 0.8900 - val_loss: 0.4843 - val_acc: 0.7861\n",
            "Epoch 14/40\n",
            "25000/25000 [==============================] - 13s 522us/step - loss: 0.2555 - acc: 0.9032 - val_loss: 0.1780 - val_acc: 0.9407\n",
            "Epoch 15/40\n",
            "25000/25000 [==============================] - 13s 522us/step - loss: 0.2066 - acc: 0.9234 - val_loss: 0.1613 - val_acc: 0.9435\n",
            "Epoch 16/40\n",
            "25000/25000 [==============================] - 13s 523us/step - loss: 0.1824 - acc: 0.9307 - val_loss: 0.1388 - val_acc: 0.9539\n",
            "Epoch 17/40\n",
            "25000/25000 [==============================] - 13s 522us/step - loss: 0.1345 - acc: 0.9528 - val_loss: 0.0827 - val_acc: 0.9735\n",
            "Epoch 18/40\n",
            "25000/25000 [==============================] - 13s 521us/step - loss: 0.0931 - acc: 0.9678 - val_loss: 0.0538 - val_acc: 0.9832\n",
            "Epoch 19/40\n",
            "25000/25000 [==============================] - 13s 523us/step - loss: 0.0713 - acc: 0.9764 - val_loss: 0.0364 - val_acc: 0.9908\n",
            "Epoch 20/40\n",
            "25000/25000 [==============================] - 13s 523us/step - loss: 0.0527 - acc: 0.9839 - val_loss: 0.0261 - val_acc: 0.9944\n",
            "Epoch 21/40\n",
            "25000/25000 [==============================] - 13s 524us/step - loss: 0.0391 - acc: 0.9878 - val_loss: 0.0222 - val_acc: 0.9940\n",
            "Epoch 22/40\n",
            "25000/25000 [==============================] - 13s 521us/step - loss: 0.0173 - acc: 0.9963 - val_loss: 0.0300 - val_acc: 0.9916\n",
            "Epoch 23/40\n",
            "25000/25000 [==============================] - 13s 522us/step - loss: 0.0301 - acc: 0.9913 - val_loss: 0.0120 - val_acc: 0.9976\n",
            "Epoch 24/40\n",
            "25000/25000 [==============================] - 13s 526us/step - loss: 0.0122 - acc: 0.9971 - val_loss: 0.1664 - val_acc: 0.9379\n",
            "Epoch 25/40\n",
            "25000/25000 [==============================] - 13s 522us/step - loss: 0.0257 - acc: 0.9925 - val_loss: 0.0386 - val_acc: 0.9892\n",
            "Epoch 26/40\n",
            "25000/25000 [==============================] - 13s 521us/step - loss: 0.0254 - acc: 0.9920 - val_loss: 0.0082 - val_acc: 0.9984\n",
            "Epoch 27/40\n",
            "25000/25000 [==============================] - 13s 519us/step - loss: 0.0166 - acc: 0.9949 - val_loss: 0.0171 - val_acc: 0.9944\n",
            "Epoch 28/40\n",
            "25000/25000 [==============================] - 13s 524us/step - loss: 0.0068 - acc: 0.9983 - val_loss: 0.0049 - val_acc: 0.9996\n",
            "Epoch 29/40\n",
            "25000/25000 [==============================] - 13s 522us/step - loss: 0.0025 - acc: 0.9996 - val_loss: 0.0040 - val_acc: 0.9996\n",
            "Epoch 30/40\n",
            "25000/25000 [==============================] - 13s 520us/step - loss: 0.0066 - acc: 0.9986 - val_loss: 0.0837 - val_acc: 0.9723\n",
            "Epoch 31/40\n",
            "25000/25000 [==============================] - 13s 521us/step - loss: 0.0103 - acc: 0.9972 - val_loss: 0.0049 - val_acc: 0.9992\n",
            "Epoch 32/40\n",
            "25000/25000 [==============================] - 13s 523us/step - loss: 0.0023 - acc: 0.9996 - val_loss: 0.0037 - val_acc: 0.9996\n",
            "Epoch 33/40\n",
            "25000/25000 [==============================] - 13s 524us/step - loss: 0.0136 - acc: 0.9961 - val_loss: 0.0056 - val_acc: 0.9988\n",
            "Epoch 34/40\n",
            "25000/25000 [==============================] - 13s 521us/step - loss: 0.0037 - acc: 0.9990 - val_loss: 0.0031 - val_acc: 0.9996\n",
            "Epoch 35/40\n",
            "25000/25000 [==============================] - 13s 521us/step - loss: 0.0117 - acc: 0.9970 - val_loss: 0.0055 - val_acc: 0.9984\n",
            "Epoch 36/40\n",
            "25000/25000 [==============================] - 13s 525us/step - loss: 0.0034 - acc: 0.9993 - val_loss: 0.0026 - val_acc: 0.9996\n",
            "Epoch 37/40\n",
            "25000/25000 [==============================] - 13s 524us/step - loss: 9.8543e-04 - acc: 0.9999 - val_loss: 0.0012 - val_acc: 0.9996\n",
            "Epoch 38/40\n",
            "25000/25000 [==============================] - 13s 523us/step - loss: 0.0083 - acc: 0.9974 - val_loss: 0.0024 - val_acc: 0.9992\n",
            "Epoch 39/40\n",
            "25000/25000 [==============================] - 13s 521us/step - loss: 0.0021 - acc: 0.9996 - val_loss: 0.0011 - val_acc: 0.9996\n",
            "Epoch 40/40\n",
            "25000/25000 [==============================] - 13s 522us/step - loss: 0.0144 - acc: 0.9967 - val_loss: 0.0051 - val_acc: 0.9988\n",
            "INFO:tensorflow:Copying TPU weights to the CPU\n",
            "--- 569.0701749324799 seconds ---\n"
          ],
          "name": "stdout"
        }
      ]
    },
    {
      "metadata": {
        "id": "gpcLs6PYatf5",
        "colab_type": "code",
        "outputId": "214ae77a-e4fa-42fa-b8c1-a7c1fb1657cf",
        "colab": {
          "base_uri": "https://localhost:8080/",
          "height": 51
        }
      },
      "cell_type": "code",
      "source": [
        "inferencing_model = make_model(batch_size=None)\n",
        "inferencing_model.load_weights('./tpu_model.h5')\n",
        "inferencing_model.evaluate(x_test, y_test, batch_size=128 * 8)"
      ],
      "execution_count": 15,
      "outputs": [
        {
          "output_type": "stream",
          "text": [
            "25000/25000 [==============================] - 10s 400us/step\n"
          ],
          "name": "stdout"
        },
        {
          "output_type": "execute_result",
          "data": {
            "text/plain": [
              "[1.010209317626953, 0.8240399995803833]"
            ]
          },
          "metadata": {
            "tags": []
          },
          "execution_count": 15
        }
      ]
    },
    {
      "metadata": {
        "id": "EiQqm2R_DvIV",
        "colab_type": "text"
      },
      "cell_type": "markdown",
      "source": [
        "## Download the trained model weights to your local file system"
      ]
    },
    {
      "metadata": {
        "id": "UzMykUsdDjiD",
        "colab_type": "code",
        "colab": {}
      },
      "cell_type": "code",
      "source": [
        "from google.colab import files\n",
        "\n",
        "files.download('./tpu_model.h5')"
      ],
      "execution_count": 0,
      "outputs": []
    }
  ]
}