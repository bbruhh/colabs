{
  "nbformat": 4,
  "nbformat_minor": 0,
  "metadata": {
    "colab": {
      "name": "TPU Resnet Training on Imagenet III",
      "version": "0.3.2",
      "provenance": [],
      "collapsed_sections": [],
      "include_colab_link": true
    },
    "kernelspec": {
      "name": "python2",
      "display_name": "Python 2"
    },
    "accelerator": "TPU"
  },
  "cells": [
    {
      "cell_type": "markdown",
      "metadata": {
        "id": "view-in-github",
        "colab_type": "text"
      },
      "source": [
        "[View in Colaboratory](https://colab.research.google.com/github/christianmerkwirth/colabs/blob/master/TPU_Resnet_Training_on_Imagenet_III.ipynb)"
      ]
    },
    {
      "metadata": {
        "id": "ty5g5lT2zpVz",
        "colab_type": "code",
        "colab": {}
      },
      "cell_type": "code",
      "source": [
        " # colab.research.google.com specific\n",
        "import sys\n",
        "\n",
        "if 'google.colab' in sys.modules:\n",
        "  import json\n",
        "  import os\n",
        "  from google.colab import auth\n",
        "\n",
        "  !git clone https://github.com/tensorflow/tpu.git\n",
        "  !cp  tpu/models/official/resnet/resnet_main.py  .\n",
        "  !mv tpu/models/official ."
      ],
      "execution_count": 0,
      "outputs": []
    },
    {
      "metadata": {
        "id": "Ih0PCgV-0sI5",
        "colab_type": "code",
        "colab": {}
      },
      "cell_type": "code",
      "source": [
        "# Now run the main to set up flags and constant. The main function should not be executed.\n",
        "\n",
        "import resnet_main"
      ],
      "execution_count": 0,
      "outputs": []
    },
    {
      "metadata": {
        "id": "BFftrYfhfZIH",
        "colab_type": "code",
        "colab": {}
      },
      "cell_type": "code",
      "source": [
        "# This cell contains the Colab-specific setup and hacks.\n",
        "\n",
        "import json\n",
        "import os\n",
        "import sys\n",
        "import time\n",
        "\n",
        "from absl import flags\n",
        "import absl.logging as _logging\n",
        "\n",
        "import tensorflow as tf\n",
        "\n",
        "FLAGS = flags.FLAGS\n",
        "\n",
        "if 'google.colab' in sys.modules:\n",
        "  from google.colab import auth\n",
        "\n",
        "  # Authenticate to access GCS bucket\n",
        "  auth.authenticate_user()\n",
        "\n",
        "  # Initiate fake FLAGS parsing.\n",
        "  FLAGS(['resnet_trainer'])\n",
        "  \n",
        "  # When connected to the TPU runtime\n",
        "  if 'COLAB_TPU_ADDR' in os.environ:\n",
        "    tpu_grpc = 'grpc://{}'.format(os.environ['COLAB_TPU_ADDR'])\n",
        "\n",
        "    FLAGS.tpu = tpu_grpc\n",
        "    FLAGS.use_tpu = True\n",
        "\n",
        "    # Upload credentials to the TPU\n",
        "    with tf.Session(tpu_grpc) as sess:\n",
        "      data = json.load(open('/content/adc.json'))\n",
        "      tf.contrib.cloud.configure_gcs(sess, credentials=data)\n"
      ],
      "execution_count": 0,
      "outputs": []
    },
    {
      "metadata": {
        "id": "57bqoXEAcPiv",
        "colab_type": "code",
        "colab": {}
      },
      "cell_type": "code",
      "source": [
        "from official.resnet import imagenet_input\n",
        "from official.resnet import lars_util\n",
        "from official.resnet import resnet_model\n",
        "from official.resnet import resnet_main\n",
        "\n",
        "from tensorflow.python.estimator import estimator\n",
        "      \n",
        "# Number of training and evaluation images in the standard ImageNet dataset\n",
        "NUM_TRAIN_IMAGES = 1281167\n",
        "NUM_EVAL_IMAGES = 50000    \n",
        "\n",
        "# Change parameters according to your setup.\n",
        "FLAGS.model_dir = 'gs://tpu-cmerk-2/imagenet/models/resnet/20181022_005'\n",
        "FLAGS.data_dir = 'gs://tpu-cmerk-2/imagenet/train'\n",
        "      \n",
        "\n",
        "tpu_cluster_resolver = tf.contrib.cluster_resolver.TPUClusterResolver(FLAGS.tpu)\n",
        "\n",
        "config = tf.contrib.tpu.RunConfig(\n",
        "    cluster=tpu_cluster_resolver,\n",
        "    model_dir=FLAGS.model_dir,\n",
        "    save_checkpoints_steps=FLAGS.iterations_per_loop,\n",
        "    keep_checkpoint_max=None,\n",
        "    tpu_config=tf.contrib.tpu.TPUConfig(\n",
        "        iterations_per_loop=FLAGS.iterations_per_loop,\n",
        "        num_shards=FLAGS.num_cores,\n",
        "        per_host_input_for_training=tf.contrib.tpu.InputPipelineConfig.PER_HOST_V2))\n",
        "\n",
        "# Input pipelines are slightly different (with regards to shuffling and\n",
        "# preprocessing) between training and evaluation.\n",
        "imagenet_train = imagenet_input.ImageNetInput(\n",
        "    is_training=True,\n",
        "    data_dir=FLAGS.data_dir,\n",
        "    use_bfloat16=True,\n",
        "    transpose_input=FLAGS.transpose_input)\n",
        "imagenet_eval = imagenet_input.ImageNetInput(\n",
        "    is_training=False,\n",
        "    data_dir=FLAGS.data_dir,\n",
        "    use_bfloat16=True,\n",
        "    transpose_input=FLAGS.transpose_input)\n",
        "\n",
        "resnet_classifier = tf.contrib.tpu.TPUEstimator(\n",
        "    use_tpu=FLAGS.use_tpu,\n",
        "    model_fn=resnet_main.resnet_model_fn,\n",
        "    config=config,\n",
        "    train_batch_size=FLAGS.train_batch_size,\n",
        "    eval_batch_size=FLAGS.eval_batch_size)"
      ],
      "execution_count": 0,
      "outputs": []
    },
    {
      "metadata": {
        "id": "HSuSD_H3XWrE",
        "colab_type": "code",
        "colab": {}
      },
      "cell_type": "code",
      "source": [
        "current_step = estimator._load_global_step_from_checkpoint_dir(FLAGS.model_dir)\n",
        "batches_per_epoch = NUM_TRAIN_IMAGES / FLAGS.train_batch_size\n",
        "tf.logging.info('Training for %d steps (%.2f epochs in total). Current'\n",
        "                ' step %d.' % (FLAGS.train_steps,\n",
        "                               FLAGS.train_steps / batches_per_epoch,\n",
        "                               current_step))\n",
        "\n",
        "resnet_classifier.train(input_fn=imagenet_train.input_fn, max_steps=FLAGS.train_steps)"
      ],
      "execution_count": 0,
      "outputs": []
    },
    {
      "metadata": {
        "id": "H-GWwCat4Ve6",
        "colab_type": "code",
        "colab": {}
      },
      "cell_type": "code",
      "source": [
        "import time\n",
        "\n",
        "eval_steps = NUM_EVAL_IMAGES // FLAGS.eval_batch_size\n",
        "\n",
        "tf.logging.info('Starting to evaluate.')\n",
        "eval_start = time.time()  # This time will include compilation time\n",
        "eval_results = resnet_classifier.evaluate(\n",
        "    input_fn=imagenet_eval.input_fn,\n",
        "    steps=eval_steps)\n",
        "eval_time = int(time.time() - eval_start)\n",
        "tf.logging.info('Eval results: %s. Elapsed seconds: %d' % (eval_results, eval_time))"
      ],
      "execution_count": 0,
      "outputs": []
    }
  ]
}